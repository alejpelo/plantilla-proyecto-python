{
 "cells": [
  {
   "cell_type": "markdown",
   "metadata": {},
   "source": [
    "# Title\n",
    "\n",
    "The title of the notebook should be coherent with file name. Namely, file name should be:\n",
    "\n",
    "*progressive number - title.ipynb*\n",
    "\n",
    "For example:\n",
    "\n",
    "*01 - Data Exploration.ipynb*"
   ]
  },
  {
   "cell_type": "markdown",
   "metadata": {},
   "source": [
    "### Authors\n",
    "\n",
    "Author 1, email, affiliation\n",
    "\n",
    "Author 2, email, affiliation"
   ]
  },
  {
   "cell_type": "markdown",
   "metadata": {},
   "source": [
    "<table class=\"tfo-notebook-buttons\" align=\"left\">\n",
    "  <td>\n",
    "    <a target=\"_blank\" href=\"https://colab.research.google.com/github/tensorflow/docs/blob/master/tools/templates/notebook.ipynb\"><img src=\"https://www.tensorflow.org/images/colab_logo_32px.png\" />Run in Google Colab</a>\n",
    "  </td>\n",
    "  <td>\n",
    "    <a target=\"_blank\" href=\"https://github.com/tensorflow/docs/blob/master/tools/templates/notebook.ipynb\"><img src=\"https://www.tensorflow.org/images/GitHub-Mark-32px.png\" />View on GitHub</a>\n",
    "  </td>\n",
    "</table>"
   ]
  },
  {
   "cell_type": "markdown",
   "metadata": {},
   "source": [
    "[Update button links]"
   ]
  },
  {
   "cell_type": "markdown",
   "metadata": {},
   "source": [
    "## Overview\n",
    "\n",
    "[Include a paragraph or two explaining what this example demonstrates, who should be interested in it, and what you need to know before you get started.]"
   ]
  },
  {
   "cell_type": "markdown",
   "metadata": {},
   "source": [
    "## Setup"
   ]
  },
  {
   "cell_type": "markdown",
   "metadata": {},
   "source": [
    "[Put all your imports and installs up into a setup section.]"
   ]
  },
  {
   "cell_type": "code",
   "execution_count": null,
   "metadata": {},
   "outputs": [],
   "source": []
  },
  {
   "cell_type": "markdown",
   "metadata": {},
   "source": [
    "The next section sets both the logger and the configuration management utilities are included in the `src` folder."
   ]
  },
  {
   "cell_type": "code",
   "execution_count": null,
   "metadata": {},
   "outputs": [],
   "source": [
    "import sys\n",
    "\n",
    "sys.path.insert(1, \"../\")\n",
    "\n",
    "from src.configuracion import configuracion\n",
    "from src.logger import log"
   ]
  },
  {
   "cell_type": "markdown",
   "metadata": {},
   "source": [
    "## Resources\n",
    "\n",
    "* [Polars](https://pola.rs/)\n",
    "* [Plotnine](https://plotnine.org/)\n",
    "* [Google developer documentation style guide](https://developers.google.com/style/highlights)"
   ]
  },
  {
   "cell_type": "markdown",
   "metadata": {},
   "source": [
    "## Notebook style\n",
    "\n",
    "* Use one `H1` header for the title.\n",
    "* Include the button-bar immediately after the `H1`.\n",
    "* Include an overview section before any code.\n",
    "* Put all your installs and imports in a setup section.\n",
    "* Keep code and text cells as brief as possible.\n",
    "* Break text cells at headings\n",
    "* Break code cells between \"building\" and \"running\", and between \"printing one result\" and \"printing another result\".\n",
    "* Necessary but uninteresting code (like plotting logic) should be hidden in a toggleable code cell by putting `#@title` as the first line."
   ]
  },
  {
   "cell_type": "markdown",
   "metadata": {},
   "source": [
    "### Code style\n",
    "\n",
    "* Notebooks are for people. Write code optimized for clarity.\n",
    "* Use the [Google Python Style Guide](http://google.github.io/styleguide/pyguide.html), where applicable.\n",
    "* Keep examples quick. Use small datasets, or small slices of datasets.\n",
    "* If you define a function, run it and show us what it does before using it in another function.\n",
    "* Demonstrate small parts before combining them into something more complex, like this:"
   ]
  },
  {
   "cell_type": "code",
   "execution_count": null,
   "metadata": {},
   "outputs": [],
   "source": [
    "# Load environmental variables, example\n",
    "configuracion.admin_email"
   ]
  },
  {
   "cell_type": "code",
   "execution_count": null,
   "metadata": {},
   "outputs": [],
   "source": [
    "# Try the logger\n",
    "log.info(\"Eso es todo, log fácil!\")"
   ]
  },
  {
   "cell_type": "code",
   "execution_count": null,
   "metadata": {},
   "outputs": [],
   "source": [
    "# Build the model\n",
    "# model = tf.keras.Sequential(\n",
    "#    [\n",
    "#        tf.keras.layers.Dense(10, activation=\"relu\", input_shape=(None, 5)),\n",
    "#        tf.keras.layers.Dense(3),\n",
    "#    ]\n",
    "# )"
   ]
  },
  {
   "cell_type": "markdown",
   "metadata": {},
   "source": [
    "Run the model on a single batch of data, and inspect the output:"
   ]
  },
  {
   "cell_type": "code",
   "execution_count": null,
   "metadata": {},
   "outputs": [],
   "source": [
    "# result = model(tf.constant(np.random.randn(10, 5), dtype=tf.float32)).numpy()\n",
    "\n",
    "# print(\"min:\", result.min())\n",
    "# print(\"max:\", result.max())\n",
    "# print(\"mean:\", result.mean())\n",
    "# print(\"shape:\", result.shape)"
   ]
  },
  {
   "cell_type": "markdown",
   "metadata": {},
   "source": [
    "Compile the model for training:"
   ]
  },
  {
   "cell_type": "code",
   "execution_count": null,
   "metadata": {},
   "outputs": [],
   "source": [
    "# model.compile(\n",
    "#    optimizer=tf.keras.optimizers.Adam(), loss=tf.keras.losses.categorical_crossentropy\n",
    "# )"
   ]
  },
  {
   "cell_type": "markdown",
   "metadata": {},
   "source": [
    "### Text Style\n",
    "\n",
    "* Use an imperative style. \"Run a batch of images through the model.\"\n",
    "* Use sentence case in titles/headings. \n",
    "* Use short titles/headings: \"Download the data\", \"Build the model\", \"Train the model\".\n",
    "* Use the [Google developer documentation style guide](https://developers.google.com/style/highlights).\n"
   ]
  },
  {
   "cell_type": "markdown",
   "metadata": {},
   "source": [
    "## GitHub workflow\n",
    "\n",
    "* Use the [Open in Colab](https://chrome.google.com/webstore/detail/open-in-colab/iogfkhleblhcpcekbiedikdehleodpjo) extension to open a GitHub notebook in Colab."
   ]
  }
 ],
 "metadata": {
  "language_info": {
   "name": "python"
  }
 },
 "nbformat": 4,
 "nbformat_minor": 0
}
